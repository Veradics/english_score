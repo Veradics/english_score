{
 "cells": [
  {
   "cell_type": "markdown",
   "id": "8d180893",
   "metadata": {
    "toc": true
   },
   "source": [
    "<h1>Table of Contents<span class=\"tocSkip\"></span></h1>\n",
    "<div class=\"toc\"><ul class=\"toc-item\"><li><span><a href=\"#Loading-and-preprocessing-data\" data-toc-modified-id=\"Loading-and-preprocessing-data-1\"><span class=\"toc-item-num\">1&nbsp;&nbsp;</span>Loading and preprocessing data</a></span></li><li><span><a href=\"#Machine-learning-part\" data-toc-modified-id=\"Machine-learning-part-2\"><span class=\"toc-item-num\">2&nbsp;&nbsp;</span>Machine learning part</a></span></li><li><span><a href=\"#Results\" data-toc-modified-id=\"Results-3\"><span class=\"toc-item-num\">3&nbsp;&nbsp;</span>Results</a></span></li></ul></div>"
   ]
  },
  {
   "cell_type": "markdown",
   "id": "8d541b58",
   "metadata": {},
   "source": [
    "# Determining the level of difficulty of movies for English language learning\n",
    "\n",
    "Watching movies in their original language is a popular and effective way to improve language skills, but it can be challenging to find movies that are appropriate for a student's level.\n",
    "\n",
    "**This project aims** to develop a machine learning solution that can automatically determine the difficulty level of English-language movies, making it easier to choose movies that are both interesting and understandable.\n",
    "\n",
    "The input data consists of a labeled dataset with movie titles, subtitles, and language proficiency level tags (A1/A2/B1/B2/C1/C2). Because of the large number of classes, **the most relevant metric** to use would be F1-score."
   ]
  },
  {
   "cell_type": "markdown",
   "id": "344c9796",
   "metadata": {},
   "source": [
    "## Loading and preprocessing data"
   ]
  },
  {
   "cell_type": "code",
   "execution_count": 118,
   "id": "38f53c05",
   "metadata": {},
   "outputs": [],
   "source": [
    "# !pip install pysrt\n",
    "# !pip install nltk\n",
    "# !pip install -U spacy\n",
    "# !python -m spacy download en_core_web_sm"
   ]
  },
  {
   "cell_type": "code",
   "execution_count": 162,
   "id": "7ab7cb4e",
   "metadata": {},
   "outputs": [],
   "source": [
    "# imports\n",
    "import os, re\n",
    "import pandas as pd\n",
    "import numpy as np\n",
    "import matplotlib.pyplot as plt\n",
    "import pysrt\n",
    "\n",
    "import nltk \n",
    "from nltk.corpus import stopwords as nltk_stopwords\n",
    "\n",
    "import spacy\n",
    "\n",
    "from sklearn.feature_extraction.text import CountVectorizer, TfidfTransformer\n",
    "from sklearn.linear_model import SGDClassifier\n",
    "from sklearn.pipeline import Pipeline\n",
    "from sklearn.model_selection import train_test_split, GridSearchCV\n",
    "from sklearn.metrics import classification_report, f1_score\n",
    "\n",
    "import warnings\n",
    "warnings.filterwarnings(\"ignore\")"
   ]
  },
  {
   "cell_type": "code",
   "execution_count": 5,
   "id": "a22de01c",
   "metadata": {},
   "outputs": [],
   "source": [
    "def load_srt_from_folder(folder):\n",
    "    \"\"\"\n",
    "    Find and load files with .srt extention in the folder.\n",
    "    \"\"\"\n",
    "    \n",
    "    root_dir = f'English_level/English_scores/Subtitles_all/{folder}/'\n",
    "    subtitles, movies = [], []\n",
    "    \n",
    "    # find all the subtitle files with an .srt extension in root_dir\n",
    "    for dirpath, dirnames, filenames in os.walk(root_dir):\n",
    "        for filename in filenames:\n",
    "            if filename.endswith(\".srt\"):\n",
    "                filepath = os.path.join(dirpath, filename)\n",
    "                movies.append(filename[:-4]) # the movie name\n",
    "                \n",
    "                movie_subs = pysrt.open(filepath, encoding='iso-8859-1')\n",
    "                movie_subs = [sub.text for sub in movie_subs]\n",
    "                subtitles.append(' '.join(movie_subs))\n",
    "    \n",
    "    print(f'Subtitles: {len(subtitles)} files from {folder} loaded.')\n",
    "    \n",
    "    # to dataframe\n",
    "    subtitles_df = pd.DataFrame({'movie': movies,\n",
    "                                'text': subtitles})\n",
    "    return subtitles_df"
   ]
  },
  {
   "cell_type": "code",
   "execution_count": 6,
   "id": "4a214d36",
   "metadata": {},
   "outputs": [
    {
     "name": "stdout",
     "output_type": "stream",
     "text": [
      "Subtitles: 6 files from A2 loaded.\n",
      "Subtitles: 17 files from B1 loaded.\n",
      "Subtitles: 107 files from B2 loaded.\n",
      "Subtitles: 33 files from C1 loaded.\n"
     ]
    }
   ],
   "source": [
    "# load data from folders to dataframe\n",
    "subs_df = pd.DataFrame(columns=['movie', 'text', 'level'])\n",
    "\n",
    "for level in ['A2', 'B1', 'B2', 'C1']:\n",
    "    part_subs_df = load_srt_from_folder(level)\n",
    "    part_subs_df['level'] = level\n",
    "    \n",
    "    subs_df = pd.concat([subs_df, part_subs_df])   "
   ]
  },
  {
   "cell_type": "code",
   "execution_count": 7,
   "id": "42d46d22",
   "metadata": {},
   "outputs": [
    {
     "data": {
      "text/html": [
       "<div>\n",
       "<style scoped>\n",
       "    .dataframe tbody tr th:only-of-type {\n",
       "        vertical-align: middle;\n",
       "    }\n",
       "\n",
       "    .dataframe tbody tr th {\n",
       "        vertical-align: top;\n",
       "    }\n",
       "\n",
       "    .dataframe thead th {\n",
       "        text-align: right;\n",
       "    }\n",
       "</style>\n",
       "<table border=\"1\" class=\"dataframe\">\n",
       "  <thead>\n",
       "    <tr style=\"text-align: right;\">\n",
       "      <th></th>\n",
       "      <th>movie</th>\n",
       "      <th>text</th>\n",
       "      <th>level</th>\n",
       "    </tr>\n",
       "  </thead>\n",
       "  <tbody>\n",
       "    <tr>\n",
       "      <th>0</th>\n",
       "      <td>The Walking Dead-S01E01-Days Gone Bye.English</td>\n",
       "      <td>( bugs chittering ) ( brakes squeak ) - ( engi...</td>\n",
       "      <td>A2</td>\n",
       "    </tr>\n",
       "    <tr>\n",
       "      <th>1</th>\n",
       "      <td>The Walking Dead-S01E02-Guts.English</td>\n",
       "      <td>- ( birds chirping )\\n- ( bugs chittering ) Bo...</td>\n",
       "      <td>A2</td>\n",
       "    </tr>\n",
       "    <tr>\n",
       "      <th>2</th>\n",
       "      <td>The Walking Dead-S01E03-Tell It To The Frogs.E...</td>\n",
       "      <td>( thunder rumbling ) Merle:\\nThat's right. You...</td>\n",
       "      <td>A2</td>\n",
       "    </tr>\n",
       "    <tr>\n",
       "      <th>3</th>\n",
       "      <td>The Walking Dead-S01E04-Vatos.English</td>\n",
       "      <td>( birds chirping ) - What?\\n- Nothing. It's no...</td>\n",
       "      <td>A2</td>\n",
       "    </tr>\n",
       "    <tr>\n",
       "      <th>4</th>\n",
       "      <td>The Walking Dead-S01E05-Wildfire.English</td>\n",
       "      <td>- ( walkie-talkie squawks )\\n- Rick: Morgan, I...</td>\n",
       "      <td>A2</td>\n",
       "    </tr>\n",
       "  </tbody>\n",
       "</table>\n",
       "</div>"
      ],
      "text/plain": [
       "                                               movie  \\\n",
       "0      The Walking Dead-S01E01-Days Gone Bye.English   \n",
       "1               The Walking Dead-S01E02-Guts.English   \n",
       "2  The Walking Dead-S01E03-Tell It To The Frogs.E...   \n",
       "3              The Walking Dead-S01E04-Vatos.English   \n",
       "4           The Walking Dead-S01E05-Wildfire.English   \n",
       "\n",
       "                                                text level  \n",
       "0  ( bugs chittering ) ( brakes squeak ) - ( engi...    A2  \n",
       "1  - ( birds chirping )\\n- ( bugs chittering ) Bo...    A2  \n",
       "2  ( thunder rumbling ) Merle:\\nThat's right. You...    A2  \n",
       "3  ( birds chirping ) - What?\\n- Nothing. It's no...    A2  \n",
       "4  - ( walkie-talkie squawks )\\n- Rick: Morgan, I...    A2  "
      ]
     },
     "execution_count": 7,
     "metadata": {},
     "output_type": "execute_result"
    }
   ],
   "source": [
    "subs_df.head()"
   ]
  },
  {
   "cell_type": "code",
   "execution_count": 8,
   "id": "115ceaf0",
   "metadata": {},
   "outputs": [
    {
     "name": "stdout",
     "output_type": "stream",
     "text": [
      "Subtitles: 115 files from Subtitles loaded.\n"
     ]
    },
    {
     "data": {
      "text/html": [
       "<div>\n",
       "<style scoped>\n",
       "    .dataframe tbody tr th:only-of-type {\n",
       "        vertical-align: middle;\n",
       "    }\n",
       "\n",
       "    .dataframe tbody tr th {\n",
       "        vertical-align: top;\n",
       "    }\n",
       "\n",
       "    .dataframe thead th {\n",
       "        text-align: right;\n",
       "    }\n",
       "</style>\n",
       "<table border=\"1\" class=\"dataframe\">\n",
       "  <thead>\n",
       "    <tr style=\"text-align: right;\">\n",
       "      <th></th>\n",
       "      <th>movie</th>\n",
       "      <th>text</th>\n",
       "      <th>level</th>\n",
       "    </tr>\n",
       "  </thead>\n",
       "  <tbody>\n",
       "    <tr>\n",
       "      <th>0</th>\n",
       "      <td>10_Cloverfield_lane(2016)</td>\n",
       "      <td>&lt;font color=\"#ffff80\"&gt;&lt;b&gt;Fixed &amp; Synced by boz...</td>\n",
       "      <td>B1</td>\n",
       "    </tr>\n",
       "    <tr>\n",
       "      <th>1</th>\n",
       "      <td>10_things_I_hate_about_you(1999)</td>\n",
       "      <td>Hey! I'll be right with you. So, Cameron. Here...</td>\n",
       "      <td>B1</td>\n",
       "    </tr>\n",
       "    <tr>\n",
       "      <th>2</th>\n",
       "      <td>Aladdin(1992)</td>\n",
       "      <td>&lt;i&gt;Oh, I come from a land\\nFrom a faraway plac...</td>\n",
       "      <td>A2/A2+</td>\n",
       "    </tr>\n",
       "    <tr>\n",
       "      <th>3</th>\n",
       "      <td>All_dogs_go_to_heaven(1989)</td>\n",
       "      <td>CAPTIONING MADE POSSIBLE BY\\nMGM HOME ENTERTAI...</td>\n",
       "      <td>A2/A2+</td>\n",
       "    </tr>\n",
       "    <tr>\n",
       "      <th>4</th>\n",
       "      <td>An_American_tail(1986)</td>\n",
       "      <td>(INDISTINCT CONVERSATION) (ALL LAUGHING) MAMA:...</td>\n",
       "      <td>A2/A2+</td>\n",
       "    </tr>\n",
       "  </tbody>\n",
       "</table>\n",
       "</div>"
      ],
      "text/plain": [
       "                              movie  \\\n",
       "0         10_Cloverfield_lane(2016)   \n",
       "1  10_things_I_hate_about_you(1999)   \n",
       "2                     Aladdin(1992)   \n",
       "3       All_dogs_go_to_heaven(1989)   \n",
       "4            An_American_tail(1986)   \n",
       "\n",
       "                                                text   level  \n",
       "0  <font color=\"#ffff80\"><b>Fixed & Synced by boz...      B1  \n",
       "1  Hey! I'll be right with you. So, Cameron. Here...      B1  \n",
       "2  <i>Oh, I come from a land\\nFrom a faraway plac...  A2/A2+  \n",
       "3  CAPTIONING MADE POSSIBLE BY\\nMGM HOME ENTERTAI...  A2/A2+  \n",
       "4  (INDISTINCT CONVERSATION) (ALL LAUGHING) MAMA:...  A2/A2+  "
      ]
     },
     "execution_count": 8,
     "metadata": {},
     "output_type": "execute_result"
    }
   ],
   "source": [
    "# also the mixed data present in 'Subtitles' folder\n",
    "mixed_movies = load_srt_from_folder('Subtitles')\n",
    "\n",
    "# labels for the movies in excel file\n",
    "labels = pd.read_excel(r'English_level/English_scores/movies_labels.xlsx')\n",
    "labels = labels.drop(columns='id').rename(columns={'Movie':'movie', 'Level':'level'})\n",
    "\n",
    "# join level labels\n",
    "mixed_movies = mixed_movies.merge(labels, on='movie', how='left')\n",
    "mixed_movies.head()"
   ]
  },
  {
   "cell_type": "code",
   "execution_count": 9,
   "id": "daad535b",
   "metadata": {},
   "outputs": [
    {
     "name": "stdout",
     "output_type": "stream",
     "text": [
      "Amount: 282\n"
     ]
    }
   ],
   "source": [
    "# join last part of movies\n",
    "subs_df = pd.concat([subs_df, mixed_movies])\n",
    "print(f'Amount: {subs_df.shape[0]}')"
   ]
  },
  {
   "cell_type": "code",
   "execution_count": 10,
   "id": "f197fd75",
   "metadata": {},
   "outputs": [
    {
     "data": {
      "text/html": [
       "<div>\n",
       "<style scoped>\n",
       "    .dataframe tbody tr th:only-of-type {\n",
       "        vertical-align: middle;\n",
       "    }\n",
       "\n",
       "    .dataframe tbody tr th {\n",
       "        vertical-align: top;\n",
       "    }\n",
       "\n",
       "    .dataframe thead th {\n",
       "        text-align: right;\n",
       "    }\n",
       "</style>\n",
       "<table border=\"1\" class=\"dataframe\">\n",
       "  <thead>\n",
       "    <tr style=\"text-align: right;\">\n",
       "      <th></th>\n",
       "      <th>movie</th>\n",
       "      <th>text</th>\n",
       "      <th>level</th>\n",
       "    </tr>\n",
       "  </thead>\n",
       "  <tbody>\n",
       "    <tr>\n",
       "      <th>47</th>\n",
       "      <td>Inside_out(2015)</td>\n",
       "      <td>Advertise your product or brand here&lt;br/&gt;conta...</td>\n",
       "      <td>B1</td>\n",
       "    </tr>\n",
       "    <tr>\n",
       "      <th>48</th>\n",
       "      <td>Inside_out(2015)</td>\n",
       "      <td>Advertise your product or brand here&lt;br/&gt;conta...</td>\n",
       "      <td>B1</td>\n",
       "    </tr>\n",
       "    <tr>\n",
       "      <th>72</th>\n",
       "      <td>Powder(1995)</td>\n",
       "      <td>EMT 1:\\nAll right, people,\\nlet's move! Let's ...</td>\n",
       "      <td>B1</td>\n",
       "    </tr>\n",
       "    <tr>\n",
       "      <th>73</th>\n",
       "      <td>Powder(1995)</td>\n",
       "      <td>EMT 1:\\nAll right, people,\\nlet's move! Let's ...</td>\n",
       "      <td>B1</td>\n",
       "    </tr>\n",
       "    <tr>\n",
       "      <th>81</th>\n",
       "      <td>The_blind_side(2009)</td>\n",
       "      <td>[CROWD CHEERING IN DISTANCE] LElGH ANNE: There...</td>\n",
       "      <td>B2</td>\n",
       "    </tr>\n",
       "    <tr>\n",
       "      <th>82</th>\n",
       "      <td>The_blind_side(2009)</td>\n",
       "      <td>[CROWD CHEERING IN DISTANCE] LElGH ANNE: There...</td>\n",
       "      <td>B1</td>\n",
       "    </tr>\n",
       "    <tr>\n",
       "      <th>104</th>\n",
       "      <td>The_terminal(2004)</td>\n",
       "      <td>&lt;font color=\"#D900D9\"&gt;(AIRPLANE APPROACHES)&lt;/f...</td>\n",
       "      <td>B1</td>\n",
       "    </tr>\n",
       "    <tr>\n",
       "      <th>105</th>\n",
       "      <td>The_terminal(2004)</td>\n",
       "      <td>&lt;font color=\"#D900D9\"&gt;(AIRPLANE APPROACHES)&lt;/f...</td>\n",
       "      <td>A2/A2+, B1</td>\n",
       "    </tr>\n",
       "  </tbody>\n",
       "</table>\n",
       "</div>"
      ],
      "text/plain": [
       "                    movie                                               text  \\\n",
       "47       Inside_out(2015)  Advertise your product or brand here<br/>conta...   \n",
       "48       Inside_out(2015)  Advertise your product or brand here<br/>conta...   \n",
       "72           Powder(1995)  EMT 1:\\nAll right, people,\\nlet's move! Let's ...   \n",
       "73           Powder(1995)  EMT 1:\\nAll right, people,\\nlet's move! Let's ...   \n",
       "81   The_blind_side(2009)  [CROWD CHEERING IN DISTANCE] LElGH ANNE: There...   \n",
       "82   The_blind_side(2009)  [CROWD CHEERING IN DISTANCE] LElGH ANNE: There...   \n",
       "104    The_terminal(2004)  <font color=\"#D900D9\">(AIRPLANE APPROACHES)</f...   \n",
       "105    The_terminal(2004)  <font color=\"#D900D9\">(AIRPLANE APPROACHES)</f...   \n",
       "\n",
       "          level  \n",
       "47           B1  \n",
       "48           B1  \n",
       "72           B1  \n",
       "73           B1  \n",
       "81           B2  \n",
       "82           B1  \n",
       "104          B1  \n",
       "105  A2/A2+, B1  "
      ]
     },
     "execution_count": 10,
     "metadata": {},
     "output_type": "execute_result"
    }
   ],
   "source": [
    "# duplicates\n",
    "duplicated_movies = subs_df.loc[subs_df.duplicated(subset=['movie']), 'movie'].to_list()\n",
    "subs_df[subs_df['movie'].isin(duplicated_movies)]"
   ]
  },
  {
   "cell_type": "markdown",
   "id": "a774ddd4",
   "metadata": {},
   "source": [
    "The subtitles texts are also the same. So let's remove the duplicates."
   ]
  },
  {
   "cell_type": "code",
   "execution_count": 11,
   "id": "d65aa122",
   "metadata": {},
   "outputs": [],
   "source": [
    "subs_df = subs_df[~subs_df.duplicated(subset='movie')]\n",
    "subs_df.reset_index(drop=True, inplace=True)"
   ]
  },
  {
   "cell_type": "code",
   "execution_count": 12,
   "id": "a19e0b0a",
   "metadata": {},
   "outputs": [
    {
     "data": {
      "text/plain": [
       "9"
      ]
     },
     "execution_count": 12,
     "metadata": {},
     "output_type": "execute_result"
    }
   ],
   "source": [
    "# gaps in level column\n",
    "subs_df[subs_df['level'].isna()].shape[0]"
   ]
  },
  {
   "cell_type": "markdown",
   "id": "52052a3f",
   "metadata": {},
   "source": [
    "Delete movies without labels."
   ]
  },
  {
   "cell_type": "code",
   "execution_count": 13,
   "id": "e0a1523a",
   "metadata": {},
   "outputs": [],
   "source": [
    "subs_df = subs_df[~subs_df['level'].isna()]"
   ]
  },
  {
   "cell_type": "code",
   "execution_count": 14,
   "id": "eddefd7c",
   "metadata": {},
   "outputs": [
    {
     "data": {
      "text/plain": [
       "B2            136\n",
       "B1             51\n",
       "C1             39\n",
       "A2/A2+         25\n",
       "B1, B2          8\n",
       "A2              6\n",
       "A2/A2+, B1      4\n",
       "Name: level, dtype: int64"
      ]
     },
     "execution_count": 14,
     "metadata": {},
     "output_type": "execute_result"
    }
   ],
   "source": [
    "# unique level values\n",
    "subs_df['level'].value_counts()"
   ]
  },
  {
   "cell_type": "markdown",
   "id": "27f99427",
   "metadata": {},
   "source": [
    "There are several labels with mixed level values. Let's transform them by choosing an easier level. Then only the 4 most common values will remain."
   ]
  },
  {
   "cell_type": "code",
   "execution_count": 15,
   "id": "96f97d3a",
   "metadata": {},
   "outputs": [],
   "source": [
    "subs_df['level'] = (subs_df['level']\n",
    "                    .replace('A2/A2+', 'A2')\n",
    "                    .replace('A2/A2+, B1', 'A2')\n",
    "                    .replace('B1, B2', 'B1'))"
   ]
  },
  {
   "cell_type": "code",
   "execution_count": 16,
   "id": "7cb176f7",
   "metadata": {},
   "outputs": [
    {
     "data": {
      "text/plain": [
       "B2    136\n",
       "B1     59\n",
       "C1     39\n",
       "A2     35\n",
       "Name: level, dtype: int64"
      ]
     },
     "execution_count": 16,
     "metadata": {},
     "output_type": "execute_result"
    }
   ],
   "source": [
    "subs_df['level'].value_counts()"
   ]
  },
  {
   "cell_type": "code",
   "execution_count": 163,
   "id": "02b39639",
   "metadata": {},
   "outputs": [
    {
     "data": {
      "image/png": "[encoded data removed]",
      "text/plain": [
       "<Figure size 432x288 with 1 Axes>"
      ]
     },
     "metadata": {
      "needs_background": "light"
     },
     "output_type": "display_data"
    }
   ],
   "source": [
    "subs_df['level'].hist()\n",
    "plt.show()"
   ]
  },
  {
   "cell_type": "markdown",
   "id": "e0f870a9",
   "metadata": {},
   "source": [
    "There is a class imbalance. However, the dataset is small so undersampling method can not be used. The oversampling is not better option for NLP tasks."
   ]
  },
  {
   "cell_type": "code",
   "execution_count": 112,
   "id": "6fbcb9df",
   "metadata": {},
   "outputs": [
    {
     "data": {
      "text/plain": [
       "\"''Spirit Stallion of the Cimarron'' The story I want to tell you,\\ncan not be found in a book. They say the history of the West was\\nwritten from the saddle of a horse. But it's never been told\\nfrom the heart of one. Not until now. I was born here. In this place that would come\\nto be called the ''Old West'' But to my kind, the land was ageless.\\nIt had no beginning and no end. No boundary between earth and sky. Like the wind in the Buffalo grass.\\nWe belong here. We will always belong here. They say the mustang is the\\nspirit of the West. Whether that West\\nwas won or lost in the end You have to decide for yourself. But the story\\nI want to tell you is true. I was there. And I remember. I remember the sun, and the sky\\nand the wind calling my name. In the time when the wild\\nhorses ran free. ## Here I am ## This is me ## I come to this world so wild and free ## Here I am ## So young and strong ## Right here in the place where I belong ## It's a new world ## It's a new start ## It's life with a beating of\\n## a young heart ## It's a new day ## In a new land ## And it's waiting for me ## Here I am ## It's a new world ## It's a new start ## It's life with a beating of\\n## a young heart ## Yeah, it's a new day ## In a new land ## And it's waiting for me ## Here I am And so I grew from colt to stallion As wild and reckless As thunder over the land. Racing with the eagle. Soaring with the wind. Flying?\\nThere were times I believed I could. Like my father before me I became leader of the Cimarron herd.\\nAnd with that honour Came responsibility. ## I hear the wind ## Across the plane ## A sound so strong ## That calls my name ## It's wild like the river ## It's warm like the sun ## Yeah, it's here ## This is where I belong ## Under the star skies ## Where eagles have flown ## This place is paradise ## It's the place I call home ## The moon on the mountain ## The whisper through the trees ## The winds on the water ## Let nothing come between this and me ## It's everything I want ## It's everything this here ## And when we are all together ## There's nothing ## To fear ## And wherever I wander ## The one thing I've learned ## Yes ## It's to here ## I will always ## Always ## Return Something new came upon\\nthe land one night. Something that changed my life\\nforever... And so my journey began. A wiser horse might have turned\\nand ran. But I wanted to know what\\nstrange creature was here. Look. Man, look at that stallion,\\nit is beautiful. Follow the horse! Let's go! Look out! Don't you get away! I was scared. I didn't know what was going\\nto happen to me. At least my mother\\nand the herd were safe. Come on! ## I got find another fight ## I got run another night ## Get it out, check it out ## I'm on my way and I don't feel right ## I got come back ## I can't be beat, and that's a fact ## It's Ok, I'll find a way ## Ain't gonna take me, down the way ## Yeah ## Don't judge a thing 'till you know\\n## what is inside it ## Don't push me, I'll fight it ## Never gonna give it up, no ## If you can't catch a wave\\n## Then you'll never gonna ride it ## You can't come uninvited ## Never gonna give it up, no ## You can't take me ## I'm free ## Why did it all go wrong ## I wanna know what's going on ## What's this holding me? ## I'm not where I'm supposed to be ## I got fight another fight ## I got fight with all my might ## I'm getting out, just check it out ## You're in my way,\\n## You better watch out Open the gate! Come on!\\n## Don't judge a thing 'till you know\\n## what's inside it ## Don't push me, I'll fight it ## Never gonna give it up, no ## If you can't catch a wave\\n## Then you'll never gonna ride it ## You can't come uninvited ## Never gonna give it up, no ## You can't take me\\n## I'm free ## Yeah, I'm free What seems to be the\\nproblem, gentlemen? We got this crazy one here, Sir. - Pure Mustang, Colonel. Really? The army has dealt with\\nwild horses before. This one will be no different. I remember the first time I saw a rattler curled up in my path -Induct this animal, Sargent.\\n-Yes Sir! This one didn't look like a rattler. But I was still thinking...\\nsnake. Grab him, grab him. Okay Murphy, he's all yours. He's a wild one. We'll see how wild he is,\\nwhen I am done with him. You want a fight, do you? Right. Make sure that's good tight. Murphy, look out! Watch out! Murphy, are you okay? Corporal, round up some volunteers to\\ntake this animal to the stables. Not the stables. -Sir?\\n-The corral. It's time to break that horse. # Well you think that you can take me on\\n# You must be crazy Make sure it's good tied. ## Ain't a single thing you've done\\n## Is gonna phase me ## If you wanna have a go # I just wanna let you know ## Get off my back and into my game ## Get out of my way\\n## Cause I'm wild and untamed ## Get out of my face\\n## Or gimme your best shot ## I think it's time\\n## You better face the fact ## Get off my back Ok, my turn! ## You know is all just a game\\n## that I'm playing ## You think that you can find a\\n## way in, is what I'm saying ## If you wanna have a go ## I just wanna let you know ## Get off my back and\\n## into my game ## Get out of my face\\n## Cause I'm wild and untamed ## Get out of my way\\n## Or gimme your best shot Another rider! ## You know the train is coming off its track\\n## Get off my back ## Yeah, get off my back ## Get off ## Get off, get off, get off ## Get off my back Sargent. -Yes Sir.\\nTie this horse to the post. No food or water. Three days. Yes Sir. My heart galloped through\\nthe sky that night Back to my herd. Where I belonged. And I wonder if they'd miss me As much as I miss them. We got a hostile! Bring him there this way. Well, what do we have here? We caught him\\nby the supply wagon, Sir. Ah, a Dakota. Not as tall as the Cheyenne,\\nand fine featured as the Crow. Take him away gentlemen,\\nshow him our best. Corporal, take him to the stock case. Not the stock case. The post. No food or water. What are you looking at boy? He was called Little Creak. And he seemed different from the rest. There were just no end to the\\nstrange ways of the two legged. With the Colonel permission, Sir.\\nIncoming patrol report hostiles\\nheaded North. The railroad has expressed concern, Sir. They requested additional patrols. How long has it been, Sargent? Sir?\\n-The mustang. How long has it been tied? Three days, Sir. Good. Fetch my crop and spurs. Take it easy! Back up! Back up! You see gentlemen,\\nany horse can be broken. Move along mustang. There are those in Washington who believe\\nthe West will never be settled. The northern pacific railroad\\nwill never breach Nebraska. A hostile Dakota will never\\nsubmit to providence. And it is that manner of small thinking. That would say this horse\\ncould never be broken. Discipline, time, and patience. Are the three great levelers. Sometimes a horse's gotta do,\\nwhat a horse's gotta do And this was one of those times. Get off me! Soldier! Secure that horse! I wasn't sure\\nwhat happened back there. And I wasn't about to stop and ask. All I knew was I was headed home. I couldn't believe it. One moment I was free,\\nand the next... more ropes. I couldn't understand it. She treated the scrawny two-legged Like one of our kind. Prancing around him Like a love struck ear ring. It was down right unnatural. Great mustang, today I will ride you. This ought to be good... Mares. Okay, Rain, lets see if you can teach This mustang some manners. Okay, I admit it She was charming In a stubborn, irritating kind of way. So, I let her show me her world. Bye-Bye horsey. For the first time in my life, I felt my heart torn two ways. Give it back! Mustang! I had to hand to that boy. He just wouldn't give up. I'm never gonna ride you, am I? And no one never should. You can go. It's okay, go. Go on, get out of here. Go home. I knew this was hard for her,\\nand she was scared. But more than anything,\\nI wanted to share my homeland with her I laid beside her that night. Hoping, praying that somehow\\nshe would be okay. There are a couple\\nof horses over there! Leave her there. She's not gonna make it. Oh, Rain! Easy, girl. Easy. It will be okay. You saved my life. I'm not gonna hurt you. Come on, it's gonna be okay. ## Sound the bugle now ## Play it just for me ## As the seasons change ## Remember how I used to be ## Now I can't go on ## I can't even start ## I got nothing left ## Just an empty heart ## I'm a soldier ## Wounded soul I must give up the fight ## There's nothing more for me ## Lead me away ## Or leave me lying here ## Sound the bugle now ## Tell them I don't care ## There's not a road I know ## That leads to anywhere ## Without a light ## I fear that I'll stumble in the dark ## Lay out down\\n## Decide ## Not to go on ## That from high ## Somewhere in the distance ## There's a voice that calls ## Remember who you are ## If you loose yourself ## Your courage soon will follow ## So, be strong tonight ## Remember who you are ## Yeah ## You're a soldier now ## Fighting in a battle ## To be free once more ## Yeah, that's worth fighting for It'll be alright. I didn't know\\nwhy we were brought here. What I did know was we had to find a way to escape,\\nand get back home. Well, that is it, we're rolling\\nthe steam over the mountain. We got six days to connect to Utah. Move out and gone. Ready to go! We're almost on the top! That was the moment I understood They were headed to my homeland And I had to stop them. Get back! Oh, we got to stop! Hold it! Get the mules up here! I don't know where he came from Or how he got there. But I sure was happy to see him. I don't believe it. Go! Go! Run! We got 'em now! Where did they go? There they are!\\nUp there! Oh no. Oh yes. ## Don't judge a thing 'till you know\\n## what is inside it ## Don't push me, I'll fight it ## Never gonna give it up, no ## If you can't catch a wave\\n## Then you'll never gonna ride it ## You can't come uninvited ## Never gonna give it up, no! ## You can't take me\\n## I'm free You will always be in my heart. Take care of her,\\nSpirit... Who cannot be broken. I will miss you, my friend. I've been waiting\\nso long to run free. But that goodbye was harder\\nthan I ever imagined. I will never forget that boy. And how we won back\\nour freedom together. ## I hear the wind ## Call my name ## The sound that leads me ## Home again ## It sparks up the fire ## A flame that still runs ## To you ## I will always return ## I know the road is long ## But where you are is home ## Wherever you stay ## I'll find the way ## I run like the river ## I'll follow the sun ## I'll fly like an eagle ## To where I belong ## I can't stand the distance ## I can't dream alone ## I can't wait to see you ## Yes, I'm on my way home ## Now I know it's true ## That every road leads to you ## And in the hour of darkness ## Your light gets me through ## You run like the river ## You shine like the sun ## Yeah ## You fly like an eagle ## Yeah, you are the one ## I've seen every sunset ## And with all that I've learned ## It's to you I will always ## Always ## Return -The end- Fixed and lyrics by PROMAC.\""
      ]
     },
     "execution_count": 112,
     "metadata": {},
     "output_type": "execute_result"
    }
   ],
   "source": [
    "# example subtitle text\n",
    "subs_df.loc[20, 'text']"
   ]
  },
  {
   "cell_type": "markdown",
   "id": "6eaf8385",
   "metadata": {},
   "source": [
    "Subtitles texts need to be processed before using machine learning. All words need to be converted to lowercase and to normal form. Also punctiation marks, technical messages, comments and stopwords should be removed."
   ]
  },
  {
   "cell_type": "code",
   "execution_count": 105,
   "id": "908003b7",
   "metadata": {},
   "outputs": [
    {
     "name": "stderr",
     "output_type": "stream",
     "text": [
      "[nltk_data] Downloading package stopwords to\n",
      "[nltk_data]     C:\\Users\\veradiss\\AppData\\Roaming\\nltk_data...\n",
      "[nltk_data]   Package stopwords is already up-to-date!\n"
     ]
    }
   ],
   "source": [
    "# stopwords for English from nltk\n",
    "nltk.download('stopwords')\n",
    "stopwords = nltk_stopwords.words('english')\n",
    "\n",
    "# additional stopwords\n",
    "pronouns = ['I', 'me', 'you', 'he', 'she', 'it']\n",
    "articles = ['a', 'an', 'the']\n",
    "prepositions = ['in', 'on', 'at', 'by', 'to', 'for', 'from']\n",
    "conjunctions = ['and', 'but', 'or', 'yet']\n",
    "interjections = ['oh', 'shh', 'yeah', 'ah', 'uh', 'mmm']\n",
    "\n",
    "stopwords = stopwords + pronouns + articles + prepositions + conjunctions + interjections\n",
    "\n",
    "\n",
    "def clean_stopwords(text):\n",
    "    text = [word for word in text if word not in stopwords]\n",
    "    return \" \".join(text)"
   ]
  },
  {
   "cell_type": "code",
   "execution_count": 124,
   "id": "0146cc39",
   "metadata": {},
   "outputs": [],
   "source": [
    "# lemmatization\n",
    "nlp = spacy.load('en_core_web_sm')\n",
    "\n",
    "def lemmatize_text(text):\n",
    "    doc = nlp(text)\n",
    "    lemmas = [token.lemma_ for token in doc]\n",
    "    \n",
    "    return lemmas"
   ]
  },
  {
   "cell_type": "code",
   "execution_count": 123,
   "id": "637f3233",
   "metadata": {},
   "outputs": [],
   "source": [
    "# regular expressions\n",
    "HTML = r'<.*?>' # html tags\n",
    "TAG = r'{.*?}'  # other tags\n",
    "COMMENTS = r'[\\(\\[][A-Za-z ]+[\\)\\]]' # comments\n",
    "UPPER = r'[[A-Za-z ]+[\\:\\]]'  # speakers names (BOBBY:)\n",
    "LETTERS = r'[^a-zA-Z\\'.,!? ]' # need only the letters \n",
    "APOSTROPHES = r' [A-Za-z]+\\'[A-Za-z]+ ' # delete words with apostrophes\n",
    "SPACES = r'([ ])\\1+' # multiple spaces\n",
    "SYMB = r\"[^\\w\\d'\\s]\" # puctuation marks\n",
    "\n",
    "\n",
    "def clean_text(text):\n",
    "    \"\"\"\n",
    "    Clean up the text by removing unnecessary elements.\n",
    "    \"\"\"    \n",
    "    # replace with a space\n",
    "    for element in [HTML, TAG, COMMENTS, UPPER, LETTERS, APOSTROPHES]:\n",
    "        text = re.sub(element, ' ', text) \n",
    "    \n",
    "    # replace with an empty string\n",
    "    text = re.sub(SYMB, '', text)\n",
    "    text = re.sub('www', '', text)\n",
    "    text = re.sub(\"''\", '', text)\n",
    "    \n",
    "    # spaces\n",
    "    text = re.sub(SPACES, r'\\1', text)\n",
    "    \n",
    "    # delete non-ascii characters\n",
    "    text = text.encode('ascii', 'ignore').decode() \n",
    "    \n",
    "    text = text.strip() # delete left and right spaces\n",
    "    text = text.lower() # lowercase\n",
    "\n",
    "    return text"
   ]
  },
  {
   "cell_type": "code",
   "execution_count": 115,
   "id": "f802db30",
   "metadata": {},
   "outputs": [],
   "source": [
    "# general function, which includes all steps\n",
    "def prepare_text(text):\n",
    "    text = clean_text(text)      # delete incorrect characters\n",
    "    text = lemmatize_text(text)  # lemmatization\n",
    "    text = clean_stopwords(text) # delete stopwords\n",
    "    \n",
    "    return text"
   ]
  },
  {
   "cell_type": "code",
   "execution_count": 125,
   "id": "008db4d9",
   "metadata": {},
   "outputs": [
    {
     "name": "stdout",
     "output_type": "stream",
     "text": [
      "CPU times: total: 4min 22s\n",
      "Wall time: 4min 31s\n"
     ]
    },
    {
     "data": {
      "text/plain": [
       "\"spirit stallion cimarron story want tell find book say history west write saddle horse never tell heart one bear place would come call old west kind land ageless beginning end boundary earth sky like wind buffalo grass belong always belong say mustang spirit west whether west win lose end decide story want tell true remember remember sun sky wind call name time wild horse run free come world wild free young strong right place belong new world new start life beating young heart new day new land wait new world new start life beating young heart new day new land wait grow colt stallion wild reckless thunder land race eagle soar wind fly time believe could like father become leader cimarron herd honour come responsibility hear wind across plane sound strong call name wild like river warm like sun belong star sky eagle fly place paradise place call home moon mountain whisper tree wind water let nothing come everything want everything together nothing fear wherever wander one thing learn yes always always return something new come upon land one night something change life forever journey begin wise horse might turn run want know strange creature look man look stallion beautiful follow horse go look get away scared know go happen least mother herd safe come got find another fight got run another night get check way feel right got come back beat fact ok find way go take way judge thing ' till know inside push fight never go give catch wave never go ride come uninvited never go give take free go wrong wanna know go hold suppose get fight another fight get fight might get check way well watch open gate come judge thing ' till know inside push fight never go give catch wave never go ride come uninvited never go give take free free seem problem gentleman get crazy one sir pure mustang colonel really army deal wild horse one different remember first time see rattler curl path induct animal sargent yes sir one look like rattler still think snake grab grab okay murphy wild one see wild want fight right make sure good tight murphy look watch murphy okay corporal round volunteer take animal stable stable sir corral time break horse well think take must crazy make sure good tie single thing go phase wanna go wanna let know get back game get way cause wild untamed get face gimme good shot think time well face fact get back ok turn know game play think find way say wanna go wanna let know get back game get face cause wild untamed get way gimme good shoot another rider know train come track get back get back get get get get get back sargent yes sir tie horse post food water three day yes sir heart gallop sky night back herd belong wonder miss much miss get hostile bring way well catch supply wagon sir dakota tall cheyenne fine feature crow take away gentleman show good corporal take stock case stock case post food water look boy call little creak seem different rest end strange way two legged colonel permission sir incoming patrol report hostile head north railroad express concern sir request additional patrol long sargent sir mustang long tie three day sir good fetch crop spur take easy back back see gentleman horse break move along mustang washington believe west never settle northern pacific railroad never breach nebraska hostile dakota never submit providence manner small thinking would say horse could never break discipline time patience three great leveler sometimes get get one time get soldier secure horse sure happen back stop ask know head home believe one moment free next rope understand treat scrawny two legged like one kind prance around like love strike ear right unnatural great mustang today ride ought good mare okay rain let see teach mustang manner okay admit charming stubborn irritating kind way let show world bye bye horsey first time life feel heart tear two way give back mustang hand boy give never go ride one never go okay go go get go home know hard scared anything want share homeland lay beside night hope pray somehow would okay couple horse leave go make rain easy girl easy okay save life go hurt come go okay sound bugle play season change remember use go even start get nothing leave empty heart soldier wound soul must give fight nothing lead away leave lie sound bugle tell care road know lead anywhere without light fear stumble dark lie decide go high somewhere distance voice call remember loose courage soon follow strong tonight remember soldier fight battle free worth fight alright know bring know find way escape get back home well roll steam mountain get six day connect utah move go ready go almost top moment understand head homeland stop get back get stop hold get mule know come get sure happy see believe go go run get go yes judge thing ' till know inside push fight never go give catch wave never go ride come uninvited never go give take free always heart take care spirit break miss friend wait long run free goodbye hard ever imagine never forget boy win back freedom together hear wind call name sound lead home spark fire flame still run always return know road long home wherever stay find way run like river follow sun fly like eagle belong stand distance dream alone wait see yes way home know true every road lead hour darkness light get run like river shine like sun fly like eagle one see every sunset learn always always return end fix lyric promac\""
      ]
     },
     "execution_count": 125,
     "metadata": {},
     "output_type": "execute_result"
    }
   ],
   "source": [
    "%%time\n",
    "\n",
    "subs_df['prepared_text'] = subs_df['text'].apply(prepare_text)\n",
    "subs_df.loc[20, 'prepared_text'] # example"
   ]
  },
  {
   "cell_type": "markdown",
   "id": "59be8d5b",
   "metadata": {},
   "source": [
    "## Machine learning part\n",
    "Let's try to apply the SGD algorithm for the task."
   ]
  },
  {
   "cell_type": "code",
   "execution_count": 127,
   "id": "5049d3fe",
   "metadata": {},
   "outputs": [],
   "source": [
    "X = subs_df['prepared_text'] # texts\n",
    "y = subs_df['level']         # target"
   ]
  },
  {
   "cell_type": "code",
   "execution_count": 152,
   "id": "0c35ef72",
   "metadata": {},
   "outputs": [
    {
     "data": {
      "text/plain": [
       "(201, 68)"
      ]
     },
     "execution_count": 152,
     "metadata": {},
     "output_type": "execute_result"
    }
   ],
   "source": [
    "X_train, X_test, y_train, y_test = train_test_split(\n",
    "    X, y, test_size = 0.25, stratify=y, random_state = 123)\n",
    "\n",
    "X_train.shape[0], X_test.shape[0]"
   ]
  },
  {
   "cell_type": "code",
   "execution_count": 153,
   "id": "ce0da230",
   "metadata": {},
   "outputs": [],
   "source": [
    "# pipeline\n",
    "pipe = Pipeline([\n",
    "    ('vect', CountVectorizer()),\n",
    "    ('tfidf', TfidfTransformer()),\n",
    "    ('clf', SGDClassifier(random_state=123))\n",
    "])"
   ]
  },
  {
   "cell_type": "code",
   "execution_count": 157,
   "id": "0646ea5e",
   "metadata": {},
   "outputs": [
    {
     "name": "stdout",
     "output_type": "stream",
     "text": [
      "Fitting 5 folds for each of 648 candidates, totalling 3240 fits\n",
      "Best parameters: {'clf__alpha': 0.0001, 'clf__eta0': 0.1, 'clf__learning_rate': 'optimal', 'clf__loss': 'hinge', 'clf__penalty': 'l2', 'vect__max_df': 0.5}\n",
      "Best score: 0.622448989321445\n",
      "Times info:\n"
     ]
    },
    {
     "data": {
      "text/html": [
       "<div>\n",
       "<style scoped>\n",
       "    .dataframe tbody tr th:only-of-type {\n",
       "        vertical-align: middle;\n",
       "    }\n",
       "\n",
       "    .dataframe tbody tr th {\n",
       "        vertical-align: top;\n",
       "    }\n",
       "\n",
       "    .dataframe thead th {\n",
       "        text-align: right;\n",
       "    }\n",
       "</style>\n",
       "<table border=\"1\" class=\"dataframe\">\n",
       "  <thead>\n",
       "    <tr style=\"text-align: right;\">\n",
       "      <th></th>\n",
       "      <th>mean_fit_time</th>\n",
       "      <th>mean_score_time</th>\n",
       "    </tr>\n",
       "  </thead>\n",
       "  <tbody>\n",
       "    <tr>\n",
       "      <th>18</th>\n",
       "      <td>0.658294</td>\n",
       "      <td>0.153460</td>\n",
       "    </tr>\n",
       "    <tr>\n",
       "      <th>72</th>\n",
       "      <td>0.803289</td>\n",
       "      <td>0.202004</td>\n",
       "    </tr>\n",
       "    <tr>\n",
       "      <th>126</th>\n",
       "      <td>0.689289</td>\n",
       "      <td>0.152328</td>\n",
       "    </tr>\n",
       "  </tbody>\n",
       "</table>\n",
       "</div>"
      ],
      "text/plain": [
       "     mean_fit_time  mean_score_time\n",
       "18        0.658294         0.153460\n",
       "72        0.803289         0.202004\n",
       "126       0.689289         0.152328"
      ]
     },
     "metadata": {},
     "output_type": "display_data"
    },
    {
     "name": "stdout",
     "output_type": "stream",
     "text": [
      "CPU times: total: 16.1 s\n",
      "Wall time: 15min 54s\n"
     ]
    }
   ],
   "source": [
    "%%time\n",
    "\n",
    "# parameters for GridSearchCV\n",
    "params = {\n",
    "    'vect__max_df': [0.5, 0.75, 1.0],\n",
    "    'clf__loss': ['hinge', 'log'],      \n",
    "    'clf__alpha': [0.0001, 0.001, 0.01, 0.1],\n",
    "    'clf__penalty': ['l2', 'l1', 'elasticnet'],\n",
    "    'clf__learning_rate': ['constant', 'optimal', 'invscaling'],\n",
    "    'clf__eta0': [0.1, 0.01, 0.001]\n",
    "}\n",
    "\n",
    "grid = GridSearchCV(pipe, params, scoring='f1_macro', cv=5, n_jobs=4, verbose=1)\n",
    "grid.fit(X_train, y_train)\n",
    "\n",
    "print(\"Best parameters: {}\".format(grid.best_params_))\n",
    "print(\"Best score: {}\".format(grid.best_score_))\n",
    "print(\"Times info:\")\n",
    "display(pd.DataFrame(grid.cv_results_).query('rank_test_score == 1')[['mean_fit_time', 'mean_score_time']])"
   ]
  },
  {
   "cell_type": "code",
   "execution_count": 160,
   "id": "aebde636",
   "metadata": {},
   "outputs": [
    {
     "name": "stdout",
     "output_type": "stream",
     "text": [
      "F1 score for test set: 0.624\n"
     ]
    }
   ],
   "source": [
    "# final testing\n",
    "pipe_final = Pipeline([\n",
    "    ('vect', CountVectorizer(max_df=0.5)),\n",
    "    ('tfidf', TfidfTransformer()),\n",
    "    ('clf', SGDClassifier(loss='hinge', \n",
    "                          alpha=0.0001, \n",
    "                          penalty='l2', \n",
    "                          learning_rate='optimal',\n",
    "                          eta0=0.1,\n",
    "                          random_state=123))\n",
    "])\n",
    "\n",
    "pipe.fit(X_train, y_train)\n",
    "predictions = pipe.predict(X_test)\n",
    "f1 = f1_score(y_test, predictions, average='macro')\n",
    "print(f'F1 score for test set: {round(f1, 3)}')"
   ]
  },
  {
   "cell_type": "markdown",
   "id": "393e8e24",
   "metadata": {},
   "source": [
    "## Results\n",
    "\n",
    "The aim of this project was to develop a machine learning solution for determining the level of difficulty of English movies. *The SGDClassifier* algorithm was choosed. **The best achieved f1_score of 0.624**.\n",
    "\n",
    "To achieve this result, the text data was first preprocessed by removing unnecessary fragments and stopwords, lemmatizing the words, and also transforming the text into numerical features using *the CountVectorizer* and *TfidfTransformer*. Then the SGDClassifier algorithm was used with *GridSearchCV* to optimize the hyperparameters.\n",
    "\n",
    "Overall, the results of the project showed that machine learning algorithms can be effective in determining the level of difficulty of movies for English language learners. However, there is still room for improvement in terms of accuracy and further experimentation with different algorithms and preprocessing techniques."
   ]
  }
 ],
 "metadata": {
  "kernelspec": {
   "display_name": "Python 3 (ipykernel)",
   "language": "python",
   "name": "python3"
  },
  "language_info": {
   "codemirror_mode": {
    "name": "ipython",
    "version": 3
   },
   "file_extension": ".py",
   "mimetype": "text/x-python",
   "name": "python",
   "nbconvert_exporter": "python",
   "pygments_lexer": "ipython3",
   "version": "3.9.12"
  },
  "toc": {
   "base_numbering": 1,
   "nav_menu": {},
   "number_sections": true,
   "sideBar": true,
   "skip_h1_title": true,
   "title_cell": "Table of Contents",
   "title_sidebar": "Contents",
   "toc_cell": true,
   "toc_position": {},
   "toc_section_display": true,
   "toc_window_display": false
  }
 },
 "nbformat": 4,
 "nbformat_minor": 5
}
